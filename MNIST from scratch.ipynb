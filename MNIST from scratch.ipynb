{
 "cells": [
  {
   "cell_type": "code",
   "execution_count": 11,
   "id": "7d043a2c",
   "metadata": {},
   "outputs": [],
   "source": [
    "import numpy as np\n",
    "import matplotlib.pyplot as plt\n",
    "import pandas as pd"
   ]
  },
  {
   "cell_type": "code",
   "execution_count": 12,
   "id": "68969a95",
   "metadata": {},
   "outputs": [],
   "source": [
    "import struct\n",
    "import os\n",
    "\n",
    "def read_mnist_images(file_path):\n",
    "    with open(file_path, 'rb') as f:\n",
    "        magic, num_images = struct.unpack('>II', f.read(8))\n",
    "        rows, cols = struct.unpack('>II', f.read(8))\n",
    "        images = np.fromfile(f, dtype=np.uint8).reshape(num_images, rows * cols)\n",
    "    return images\n",
    "\n",
    "def read_mnist_labels(file_path):\n",
    "    with open(file_path, 'rb') as f:\n",
    "        magic, num_labels = struct.unpack('>II', f.read(8))\n",
    "        labels = np.fromfile(f, dtype=np.uint8)\n",
    "    return labels\n",
    "\n",
    "# Replace these paths with your actual file paths\n",
    "train_images_path = 'Dataset/train-images-idx3-ubyte/train-images-idx3-ubyte'  # Update with your path\n",
    "train_labels_path = 'Dataset/train-labels-idx1-ubyte/train-labels-idx1-ubyte'  # Update with your path\n",
    "test_images_path = 't10k-images-idx3-ubyte'    # Update with your path\n",
    "test_labels_path = 't10k-labels-idx1-ubyte'    # Update with your path\n",
    "\n",
    "# Load data\n",
    "train_images = read_mnist_images(train_images_path)\n",
    "train_labels = read_mnist_labels(train_labels_path)\n",
    "\n",
    "# Create DataFrames\n",
    "# First for the features (images)\n",
    "train_df = pd.DataFrame(train_images)\n",
    "# Add the labels\n",
    "train_df['label'] = train_labels\n"
   ]
  },
  {
   "cell_type": "code",
   "execution_count": 13,
   "id": "0f38e8e8",
   "metadata": {},
   "outputs": [
    {
     "data": {
      "text/html": [
       "<div>\n",
       "<style scoped>\n",
       "    .dataframe tbody tr th:only-of-type {\n",
       "        vertical-align: middle;\n",
       "    }\n",
       "\n",
       "    .dataframe tbody tr th {\n",
       "        vertical-align: top;\n",
       "    }\n",
       "\n",
       "    .dataframe thead th {\n",
       "        text-align: right;\n",
       "    }\n",
       "</style>\n",
       "<table border=\"1\" class=\"dataframe\">\n",
       "  <thead>\n",
       "    <tr style=\"text-align: right;\">\n",
       "      <th></th>\n",
       "      <th>0</th>\n",
       "      <th>1</th>\n",
       "      <th>2</th>\n",
       "      <th>3</th>\n",
       "      <th>4</th>\n",
       "      <th>5</th>\n",
       "      <th>6</th>\n",
       "      <th>7</th>\n",
       "      <th>8</th>\n",
       "      <th>9</th>\n",
       "      <th>...</th>\n",
       "      <th>775</th>\n",
       "      <th>776</th>\n",
       "      <th>777</th>\n",
       "      <th>778</th>\n",
       "      <th>779</th>\n",
       "      <th>780</th>\n",
       "      <th>781</th>\n",
       "      <th>782</th>\n",
       "      <th>783</th>\n",
       "      <th>label</th>\n",
       "    </tr>\n",
       "  </thead>\n",
       "  <tbody>\n",
       "    <tr>\n",
       "      <th>0</th>\n",
       "      <td>0</td>\n",
       "      <td>0</td>\n",
       "      <td>0</td>\n",
       "      <td>0</td>\n",
       "      <td>0</td>\n",
       "      <td>0</td>\n",
       "      <td>0</td>\n",
       "      <td>0</td>\n",
       "      <td>0</td>\n",
       "      <td>0</td>\n",
       "      <td>...</td>\n",
       "      <td>0</td>\n",
       "      <td>0</td>\n",
       "      <td>0</td>\n",
       "      <td>0</td>\n",
       "      <td>0</td>\n",
       "      <td>0</td>\n",
       "      <td>0</td>\n",
       "      <td>0</td>\n",
       "      <td>0</td>\n",
       "      <td>5</td>\n",
       "    </tr>\n",
       "    <tr>\n",
       "      <th>1</th>\n",
       "      <td>0</td>\n",
       "      <td>0</td>\n",
       "      <td>0</td>\n",
       "      <td>0</td>\n",
       "      <td>0</td>\n",
       "      <td>0</td>\n",
       "      <td>0</td>\n",
       "      <td>0</td>\n",
       "      <td>0</td>\n",
       "      <td>0</td>\n",
       "      <td>...</td>\n",
       "      <td>0</td>\n",
       "      <td>0</td>\n",
       "      <td>0</td>\n",
       "      <td>0</td>\n",
       "      <td>0</td>\n",
       "      <td>0</td>\n",
       "      <td>0</td>\n",
       "      <td>0</td>\n",
       "      <td>0</td>\n",
       "      <td>0</td>\n",
       "    </tr>\n",
       "    <tr>\n",
       "      <th>2</th>\n",
       "      <td>0</td>\n",
       "      <td>0</td>\n",
       "      <td>0</td>\n",
       "      <td>0</td>\n",
       "      <td>0</td>\n",
       "      <td>0</td>\n",
       "      <td>0</td>\n",
       "      <td>0</td>\n",
       "      <td>0</td>\n",
       "      <td>0</td>\n",
       "      <td>...</td>\n",
       "      <td>0</td>\n",
       "      <td>0</td>\n",
       "      <td>0</td>\n",
       "      <td>0</td>\n",
       "      <td>0</td>\n",
       "      <td>0</td>\n",
       "      <td>0</td>\n",
       "      <td>0</td>\n",
       "      <td>0</td>\n",
       "      <td>4</td>\n",
       "    </tr>\n",
       "    <tr>\n",
       "      <th>3</th>\n",
       "      <td>0</td>\n",
       "      <td>0</td>\n",
       "      <td>0</td>\n",
       "      <td>0</td>\n",
       "      <td>0</td>\n",
       "      <td>0</td>\n",
       "      <td>0</td>\n",
       "      <td>0</td>\n",
       "      <td>0</td>\n",
       "      <td>0</td>\n",
       "      <td>...</td>\n",
       "      <td>0</td>\n",
       "      <td>0</td>\n",
       "      <td>0</td>\n",
       "      <td>0</td>\n",
       "      <td>0</td>\n",
       "      <td>0</td>\n",
       "      <td>0</td>\n",
       "      <td>0</td>\n",
       "      <td>0</td>\n",
       "      <td>1</td>\n",
       "    </tr>\n",
       "    <tr>\n",
       "      <th>4</th>\n",
       "      <td>0</td>\n",
       "      <td>0</td>\n",
       "      <td>0</td>\n",
       "      <td>0</td>\n",
       "      <td>0</td>\n",
       "      <td>0</td>\n",
       "      <td>0</td>\n",
       "      <td>0</td>\n",
       "      <td>0</td>\n",
       "      <td>0</td>\n",
       "      <td>...</td>\n",
       "      <td>0</td>\n",
       "      <td>0</td>\n",
       "      <td>0</td>\n",
       "      <td>0</td>\n",
       "      <td>0</td>\n",
       "      <td>0</td>\n",
       "      <td>0</td>\n",
       "      <td>0</td>\n",
       "      <td>0</td>\n",
       "      <td>9</td>\n",
       "    </tr>\n",
       "  </tbody>\n",
       "</table>\n",
       "<p>5 rows × 785 columns</p>\n",
       "</div>"
      ],
      "text/plain": [
       "   0  1  2  3  4  5  6  7  8  9  ...  775  776  777  778  779  780  781  782  \\\n",
       "0  0  0  0  0  0  0  0  0  0  0  ...    0    0    0    0    0    0    0    0   \n",
       "1  0  0  0  0  0  0  0  0  0  0  ...    0    0    0    0    0    0    0    0   \n",
       "2  0  0  0  0  0  0  0  0  0  0  ...    0    0    0    0    0    0    0    0   \n",
       "3  0  0  0  0  0  0  0  0  0  0  ...    0    0    0    0    0    0    0    0   \n",
       "4  0  0  0  0  0  0  0  0  0  0  ...    0    0    0    0    0    0    0    0   \n",
       "\n",
       "   783  label  \n",
       "0    0      5  \n",
       "1    0      0  \n",
       "2    0      4  \n",
       "3    0      1  \n",
       "4    0      9  \n",
       "\n",
       "[5 rows x 785 columns]"
      ]
     },
     "execution_count": 13,
     "metadata": {},
     "output_type": "execute_result"
    }
   ],
   "source": [
    "df=train_df.copy()\n",
    "df.head()"
   ]
  },
  {
   "cell_type": "code",
   "execution_count": 14,
   "id": "16ff35c0",
   "metadata": {},
   "outputs": [],
   "source": [
    "data=df.values\n",
    "np.random.shuffle(data)\n",
    "num_samples=data.shape[0]\n",
    "train_end = int(0.7 * num_samples)\n",
    "val_end= int(0.85*num_samples)\n",
    "train_data=data[:train_end]\n",
    "val_data=data[train_end:val_end]\n",
    "test_data=data[val_end:]\n",
    "\n",
    "X_train=train_data[:,:-1]\n",
    "y_train=train_data[:,-1]\n",
    "X_val=val_data[:,:-1]\n",
    "y_val=val_data[:,-1]\n",
    "X_test=test_data[:,:-1]\n",
    "y_test=test_data[:,-1]\n",
    "X_train=X_train/255.0\n",
    "X_val=X_val/255.0\n",
    "X_test=X_test/255.0\n",
    "\n"
   ]
  },
  {
   "cell_type": "markdown",
   "id": "ecf2c898",
   "metadata": {},
   "source": [
    "Neural Layer Creation"
   ]
  },
  {
   "cell_type": "code",
   "execution_count": 29,
   "id": "1a9b0dd9",
   "metadata": {},
   "outputs": [],
   "source": [
    "class Layer_Dense:\n",
    "    def __init__(self,n_inputs,n_neuron,L1_weight_regulaizer=0,L1_bias_regulaizer=0\n",
    "                 ,L2_weight_regulaizer=0,L2_bias_regulaizer=0):\n",
    "        self.weights=0.10*np.random.randn(n_inputs,n_neuron)\n",
    "        self.bias=0.10*np.random.randn(1,n_neuron)\n",
    "        self.weight_regulaizer_l1=L1_weight_regulaizer\n",
    "        self.bias_regulaizer_l1=L1_bias_regulaizer\n",
    "        self.weight_regulaizer_l2=L2_weight_regulaizer\n",
    "        self.bias_regulaizer_l2=L2_bias_regulaizer\n",
    "    def forward(self,inputs):\n",
    "        self.inputs=inputs\n",
    "        self.output=np.dot(inputs,self.weights)+self.bias\n",
    "    def backward(self,dvalues):\n",
    "        self.dweights=np.dot(self.inputs.T,dvalues)\n",
    "        self.dbias=np.sum(dvalues,axis=0,keepdims=True)\n",
    "        self.dinputs=np.dot(dvalues,self.weights.T)\n",
    "\n",
    "        if self.weight_regulaizer_l1>0:\n",
    "            dl1=np.ones_like(self.weights)\n",
    "            dl1[self.weights<0]=-1\n",
    "            self.dweights +=self.weight_regulaizer_l1 * dl1\n",
    "        if self.weight_regulaizer_l2>0:\n",
    "            self.dweights+=2*self.weight_regulaizer_l2*self.weights\n",
    "        if self.bias_regulaizer_l1>0:\n",
    "            dl1=np.ones_like(self.bias)\n",
    "            dl1[self.bias<0]= -1\n",
    "            self.dbias +=self.bias_regulaizer_l1*dl1\n",
    "        if self.bias_regulaizer_l2>0:\n",
    "            self.dbias += 2*self.bias_regulaizer_l2 *self.bias\n",
    "        self.dinputs=np.dot(dvalues,self.weights.T)\n"
   ]
  },
  {
   "cell_type": "markdown",
   "id": "923d068a",
   "metadata": {},
   "source": [
    "ReLU Activation"
   ]
  },
  {
   "cell_type": "code",
   "execution_count": 16,
   "id": "f46ea7c1",
   "metadata": {},
   "outputs": [],
   "source": [
    "class Activation_RelU:\n",
    "    def forward(self,inputs):\n",
    "        self.inputs=inputs\n",
    "        self.output=np.maximum(0,inputs)\n",
    "    def backward(self,dvalues):\n",
    "        self.dinputs=dvalues.copy()\n",
    "        self.dinputs[self.inputs<=0]=0"
   ]
  },
  {
   "cell_type": "markdown",
   "id": "dba268f7",
   "metadata": {},
   "source": [
    "SoftMax Activation"
   ]
  },
  {
   "cell_type": "code",
   "execution_count": 17,
   "id": "daa23a4d",
   "metadata": {},
   "outputs": [],
   "source": [
    "class Activation_SoftMax:\n",
    "    def forward(self,inputs):\n",
    "        self.inputs=inputs\n",
    "        exp_values=np.exp(inputs-np.max(inputs,axis=1,keepdims=True))\n",
    "        probablities=exp_values/np.sum(exp_values,axis=1,keepdims=True)\n",
    "        self.output=probablities"
   ]
  },
  {
   "cell_type": "markdown",
   "id": "46799cf2",
   "metadata": {},
   "source": [
    "Loss Calculation"
   ]
  },
  {
   "cell_type": "code",
   "execution_count": 27,
   "id": "3d269b29",
   "metadata": {},
   "outputs": [],
   "source": [
    "class Loss:\n",
    "    def regulaization_loss(self,layer):\n",
    "        regularization_loss=0\n",
    "\n",
    "        if layer.weight_regulaizer_l1>0:\n",
    "            regularization_loss+=layer.weight_regulaizer_l1*np.sum(np.abs(layer.weights))\n",
    "        if layer.weight_regulaizer_l2>0:\n",
    "            regularization_loss+=layer.weight_regulaizer_l2*np.sum(layer.weights*layer.weights)\n",
    "        if layer.bias_regulaizer_l1>0:\n",
    "            regularization_loss +=layer.bias_regulaizer_l1*np.sum(np.abs(layer.bias))\n",
    "        if layer.bias_regulaizer_l2>0:\n",
    "            regularization_loss+=layer.bias_regulaizer_l2*np.sum(layer.bias*layer.bias)\n",
    "        return regularization_loss    \n",
    "\n",
    "    def calculate(self,output,y):\n",
    "        sample_losses=self.forward(output,y)\n",
    "        data_loss=np.mean(sample_losses)\n",
    "        return data_loss\n",
    "class Loss_CategoricalCross_Entropy(Loss):\n",
    "    def forward(self,y_pred,y_true):\n",
    "        samples=len(y_pred)\n",
    "        y_pred_clipped=np.clip(y_pred,1e-7,1-1e-7)\n",
    "        if len(y_true.shape)==1:\n",
    "            correct_confidence=y_pred_clipped[range(samples),y_true]\n",
    "        elif len(y_true.shape)==2:\n",
    "            correct_confidence=np.sum(y_pred_clipped*y_true,axis=1)\n",
    "        negative_log_likelihood=-np.log(correct_confidence)\n",
    "        return negative_log_likelihood"
   ]
  },
  {
   "cell_type": "markdown",
   "id": "6ea2e08b",
   "metadata": {},
   "source": [
    "Loss of Cross Entropy Activation of Softmax"
   ]
  },
  {
   "cell_type": "code",
   "execution_count": 19,
   "id": "611b9242",
   "metadata": {},
   "outputs": [],
   "source": [
    "class Activation_SoftMax_Loss_Catorgorical_Cross_Entropy():\n",
    "    def __init__(self):\n",
    "        self.activation=Activation_SoftMax()\n",
    "        self.loss=Loss_CategoricalCross_Entropy()\n",
    "    def forward(self,inputs,y_true):\n",
    "        self.activation.forward(inputs)\n",
    "        self.output=self.activation.output\n",
    "        return self.loss.calculate(self.output,y_true)\n",
    "    def backward(self,dvalues,y_true):\n",
    "        samples=len(dvalues)\n",
    "        if len(y_true.shape)==2:\n",
    "            y_true=np.argmax(y_true,axis=1)\n",
    "        self.dinputs=dvalues.copy()\n",
    "        self.dinputs[range(samples),y_true] -=1\n",
    "        self.dinputs=self.dinputs/samples\n",
    "    "
   ]
  },
  {
   "cell_type": "markdown",
   "id": "f44099b3",
   "metadata": {},
   "source": [
    "Dropout Layer"
   ]
  },
  {
   "cell_type": "code",
   "execution_count": 46,
   "id": "487be01a",
   "metadata": {},
   "outputs": [],
   "source": [
    "class Layer_Dropout:\n",
    "    def __init__(self,rate):\n",
    "        self.rate=rate\n",
    "    def forward(self,inputs):\n",
    "        self.inputs=inputs\n",
    "        self.binary_mask=np.random.binomial(1,self.rate,size=inputs.shape)/self.rate\n",
    "        self.output=inputs*self.binary_mask\n",
    "    def backward(self,dvalues):\n",
    "        self.dinputs=dvalues*self.binary_mask\n",
    "        "
   ]
  },
  {
   "cell_type": "markdown",
   "id": "d1841ac2",
   "metadata": {},
   "source": [
    "Gradient descent Optimizer"
   ]
  },
  {
   "cell_type": "code",
   "execution_count": 20,
   "id": "08b31292",
   "metadata": {},
   "outputs": [],
   "source": [
    "class Optimizer_GD:\n",
    "    def __init__(self,learning_rate=1):\n",
    "        self.learning_rate=learning_rate\n",
    "    def update_params(self,layer):\n",
    "        layer.weights += -self.learning_rate*layer.dweights\n",
    "        layer.bias += -self.learning_rate*layer.dbias\n"
   ]
  },
  {
   "cell_type": "markdown",
   "id": "f993c53e",
   "metadata": {},
   "source": [
    "Adam Optimizer"
   ]
  },
  {
   "cell_type": "code",
   "execution_count": 21,
   "id": "11ac4597",
   "metadata": {},
   "outputs": [],
   "source": [
    "class Optimizer_Adam:\n",
    "    def __init__(self,learning_rate=0.001,decay=0,epsilion=1e-7,beta_1=0.9,beta_2=0.9999):\n",
    "        self.learning_rate=learning_rate\n",
    "        self.current_learning_rate=learning_rate\n",
    "        self.decay=decay\n",
    "        self.epsilion=epsilion\n",
    "        self.beta_1=beta_1\n",
    "        self.beta_2=beta_2\n",
    "        self.iterations=0\n",
    "    def pre_update_params(self):\n",
    "        if self.decay:\n",
    "            self.current_learning_rate=self.learning_rate*(1/(1+self.decay*self.iterations))\n",
    "    def update_params(self,layer):\n",
    "        if not hasattr(layer,'weight_cache'):\n",
    "            layer.weight_cache=np.zeros_like(layer.weights)\n",
    "            layer.weight_momentum=np.zeros_like(layer.weights)\n",
    "            layer.bias_cache=np.zeros_like(layer.bias)\n",
    "            layer.bias_momentum=np.zeros_like(layer.bias)\n",
    "        layer.weight_momentum=self.beta_1*layer.weight_momentum +(1-self.beta_1)*layer.dweights\n",
    "        layer.bias_momentum=self.beta_1*layer.bias_momentum + (1-self.beta_1)*layer.dbias\n",
    "        \n",
    "        weight_momentum_corrected=layer.weight_momentum / (1-self.beta_1**(self.iterations+1))\n",
    "        bias_momentum_corrected=layer.bias_momentum /(1-self.beta_1**(self.iterations+1))\n",
    "\n",
    "        layer.weight_cache=self.beta_2*layer.weight_cache +(1-self.beta_2)*layer.dweights**2\n",
    "        layer.bias_cache=self.beta_2*layer.bias_cache +(1-self.beta_2)*layer.dbias**2\n",
    "\n",
    "        weight_cache_corrected=layer.weight_cache/(1-self.beta_2**(self.iterations+1))\n",
    "        bias_cache_corrected=layer.bias_cache/(1-self.beta_2**(self.iterations+1))\n",
    "\n",
    "        layer.weights += -self.current_learning_rate*weight_momentum_corrected \\\n",
    "                         /(np.sqrt(weight_cache_corrected + self.epsilion))\n",
    "        layer.bias += -self.current_learning_rate*bias_momentum_corrected \\\n",
    "                     / (np.sqrt(bias_cache_corrected + self.epsilion))\n",
    "    def post_update_params(self):\n",
    "        self.iterations +=1"
   ]
  },
  {
   "cell_type": "markdown",
   "id": "bb71980b",
   "metadata": {},
   "source": [
    "Training"
   ]
  },
  {
   "cell_type": "code",
   "execution_count": 60,
   "id": "c22212a6",
   "metadata": {},
   "outputs": [
    {
     "name": "stdout",
     "output_type": "stream",
     "text": [
      "epoch: 1, acc: 0.198, val_acc: 0.212loss: 5.968 (data_loss: 5.482reg_loss: 0.486) lr: 0.05\n",
      "epoch: 2, acc: 0.318, val_acc: 0.363loss: 4.047 (data_loss: 3.544reg_loss: 0.502) lr: 0.049997500124993745\n",
      "epoch: 3, acc: 0.343, val_acc: 0.439loss: 3.076 (data_loss: 2.543reg_loss: 0.533) lr: 0.04999500049995001\n",
      "epoch: 4, acc: 0.390, val_acc: 0.566loss: 2.433 (data_loss: 1.861reg_loss: 0.572) lr: 0.04999250112483127\n",
      "epoch: 5, acc: 0.436, val_acc: 0.568loss: 2.204 (data_loss: 1.588reg_loss: 0.615) lr: 0.04999000199960008\n",
      "epoch: 6, acc: 0.478, val_acc: 0.617loss: 2.089 (data_loss: 1.431reg_loss: 0.658) lr: 0.04998750312421894\n",
      "epoch: 7, acc: 0.493, val_acc: 0.645loss: 2.078 (data_loss: 1.380reg_loss: 0.698) lr: 0.049985004498650405\n",
      "epoch: 8, acc: 0.508, val_acc: 0.662loss: 2.066 (data_loss: 1.332reg_loss: 0.734) lr: 0.049982506122857\n",
      "epoch: 9, acc: 0.530, val_acc: 0.695loss: 2.048 (data_loss: 1.283reg_loss: 0.765) lr: 0.04998000799680128\n",
      "epoch: 10, acc: 0.541, val_acc: 0.707loss: 2.012 (data_loss: 1.221reg_loss: 0.791) lr: 0.049977510120445795\n",
      "epoch: 11, acc: 0.551, val_acc: 0.709loss: 1.999 (data_loss: 1.188reg_loss: 0.811) lr: 0.04997501249375313\n",
      "epoch: 12, acc: 0.564, val_acc: 0.727loss: 1.978 (data_loss: 1.152reg_loss: 0.826) lr: 0.04997251511668582\n",
      "epoch: 13, acc: 0.581, val_acc: 0.750loss: 1.944 (data_loss: 1.109reg_loss: 0.835) lr: 0.04997001798920648\n",
      "epoch: 14, acc: 0.597, val_acc: 0.768loss: 1.909 (data_loss: 1.070reg_loss: 0.839) lr: 0.04996752111127767\n",
      "epoch: 15, acc: 0.614, val_acc: 0.789loss: 1.875 (data_loss: 1.037reg_loss: 0.838) lr: 0.049965024482862004\n",
      "epoch: 16, acc: 0.634, val_acc: 0.817loss: 1.845 (data_loss: 1.011reg_loss: 0.834) lr: 0.04996252810392206\n",
      "epoch: 17, acc: 0.637, val_acc: 0.827loss: 1.817 (data_loss: 0.992reg_loss: 0.825) lr: 0.04996003197442047\n",
      "epoch: 18, acc: 0.647, val_acc: 0.831loss: 1.781 (data_loss: 0.967reg_loss: 0.814) lr: 0.04995753609431983\n",
      "epoch: 19, acc: 0.656, val_acc: 0.842loss: 1.741 (data_loss: 0.941reg_loss: 0.799) lr: 0.04995504046358278\n",
      "epoch: 20, acc: 0.667, val_acc: 0.858loss: 1.701 (data_loss: 0.918reg_loss: 0.783) lr: 0.04995254508217194\n",
      "epoch: 21, acc: 0.675, val_acc: 0.864loss: 1.672 (data_loss: 0.907reg_loss: 0.765) lr: 0.04995004995004996\n",
      "epoch: 22, acc: 0.678, val_acc: 0.866loss: 1.632 (data_loss: 0.887reg_loss: 0.745) lr: 0.04994755506717946\n",
      "epoch: 23, acc: 0.680, val_acc: 0.868loss: 1.598 (data_loss: 0.873reg_loss: 0.724) lr: 0.04994506043352312\n",
      "epoch: 24, acc: 0.685, val_acc: 0.869loss: 1.567 (data_loss: 0.864reg_loss: 0.703) lr: 0.0499425660490436\n",
      "epoch: 25, acc: 0.698, val_acc: 0.875loss: 1.523 (data_loss: 0.842reg_loss: 0.682) lr: 0.04994007191370355\n",
      "epoch: 26, acc: 0.709, val_acc: 0.882loss: 1.471 (data_loss: 0.811reg_loss: 0.660) lr: 0.04993757802746567\n",
      "epoch: 27, acc: 0.709, val_acc: 0.885loss: 1.449 (data_loss: 0.811reg_loss: 0.638) lr: 0.04993508439029262\n",
      "epoch: 28, acc: 0.710, val_acc: 0.888loss: 1.417 (data_loss: 0.801reg_loss: 0.617) lr: 0.04993259100214711\n",
      "epoch: 29, acc: 0.720, val_acc: 0.889loss: 1.383 (data_loss: 0.788reg_loss: 0.596) lr: 0.04993009786299181\n",
      "epoch: 30, acc: 0.726, val_acc: 0.892loss: 1.346 (data_loss: 0.771reg_loss: 0.575) lr: 0.04992760497278946\n",
      "epoch: 31, acc: 0.728, val_acc: 0.893loss: 1.320 (data_loss: 0.765reg_loss: 0.555) lr: 0.04992511233150274\n",
      "epoch: 32, acc: 0.728, val_acc: 0.895loss: 1.296 (data_loss: 0.760reg_loss: 0.535) lr: 0.049922619939094415\n",
      "epoch: 33, acc: 0.736, val_acc: 0.896loss: 1.261 (data_loss: 0.745reg_loss: 0.517) lr: 0.04992012779552715\n",
      "epoch: 34, acc: 0.741, val_acc: 0.897loss: 1.229 (data_loss: 0.731reg_loss: 0.498) lr: 0.04991763590076375\n",
      "epoch: 35, acc: 0.746, val_acc: 0.900loss: 1.207 (data_loss: 0.726reg_loss: 0.481) lr: 0.0499151442547669\n",
      "epoch: 36, acc: 0.748, val_acc: 0.901loss: 1.185 (data_loss: 0.720reg_loss: 0.465) lr: 0.04991265285749938\n",
      "epoch: 37, acc: 0.758, val_acc: 0.904loss: 1.139 (data_loss: 0.690reg_loss: 0.449) lr: 0.049910161708923935\n",
      "epoch: 38, acc: 0.760, val_acc: 0.904loss: 1.126 (data_loss: 0.692reg_loss: 0.434) lr: 0.04990767080900335\n",
      "epoch: 39, acc: 0.773, val_acc: 0.908loss: 1.081 (data_loss: 0.662reg_loss: 0.420) lr: 0.049905180157700374\n",
      "epoch: 40, acc: 0.772, val_acc: 0.906loss: 1.064 (data_loss: 0.658reg_loss: 0.406) lr: 0.0499026897549778\n",
      "epoch: 41, acc: 0.770, val_acc: 0.903loss: 1.069 (data_loss: 0.675reg_loss: 0.394) lr: 0.0499001996007984\n",
      "epoch: 42, acc: 0.776, val_acc: 0.909loss: 1.033 (data_loss: 0.651reg_loss: 0.382) lr: 0.04989770969512499\n",
      "epoch: 43, acc: 0.787, val_acc: 0.914loss: 1.003 (data_loss: 0.632reg_loss: 0.371) lr: 0.04989522003792037\n",
      "epoch: 44, acc: 0.789, val_acc: 0.908loss: 0.997 (data_loss: 0.636reg_loss: 0.361) lr: 0.049892730629147335\n",
      "epoch: 45, acc: 0.794, val_acc: 0.909loss: 0.969 (data_loss: 0.618reg_loss: 0.351) lr: 0.04989024146876871\n",
      "epoch: 46, acc: 0.798, val_acc: 0.916loss: 0.946 (data_loss: 0.604reg_loss: 0.342) lr: 0.04988775255674732\n",
      "epoch: 47, acc: 0.795, val_acc: 0.910loss: 0.948 (data_loss: 0.614reg_loss: 0.334) lr: 0.049885263893046\n",
      "epoch: 48, acc: 0.801, val_acc: 0.911loss: 0.920 (data_loss: 0.594reg_loss: 0.326) lr: 0.049882775477627574\n",
      "epoch: 49, acc: 0.795, val_acc: 0.909loss: 0.932 (data_loss: 0.615reg_loss: 0.318) lr: 0.049880287310454914\n",
      "epoch: 50, acc: 0.801, val_acc: 0.911loss: 0.911 (data_loss: 0.601reg_loss: 0.311) lr: 0.04987779939149085\n",
      "epoch: 51, acc: 0.801, val_acc: 0.910loss: 0.900 (data_loss: 0.595reg_loss: 0.304) lr: 0.04987531172069826\n",
      "epoch: 52, acc: 0.810, val_acc: 0.917loss: 0.872 (data_loss: 0.574reg_loss: 0.298) lr: 0.04987282429804\n",
      "epoch: 53, acc: 0.806, val_acc: 0.914loss: 0.876 (data_loss: 0.583reg_loss: 0.293) lr: 0.049870337123478964\n",
      "epoch: 54, acc: 0.812, val_acc: 0.916loss: 0.850 (data_loss: 0.563reg_loss: 0.287) lr: 0.04986785019697801\n",
      "epoch: 55, acc: 0.814, val_acc: 0.918loss: 0.850 (data_loss: 0.568reg_loss: 0.282) lr: 0.04986536351850006\n",
      "epoch: 56, acc: 0.823, val_acc: 0.918loss: 0.818 (data_loss: 0.541reg_loss: 0.277) lr: 0.04986287708800798\n",
      "epoch: 57, acc: 0.825, val_acc: 0.921loss: 0.812 (data_loss: 0.540reg_loss: 0.271) lr: 0.04986039090546471\n",
      "epoch: 58, acc: 0.825, val_acc: 0.919loss: 0.804 (data_loss: 0.538reg_loss: 0.266) lr: 0.049857904970833124\n",
      "epoch: 59, acc: 0.827, val_acc: 0.923loss: 0.788 (data_loss: 0.527reg_loss: 0.261) lr: 0.04985541928407619\n",
      "epoch: 60, acc: 0.831, val_acc: 0.924loss: 0.774 (data_loss: 0.519reg_loss: 0.256) lr: 0.049852933845156794\n",
      "epoch: 61, acc: 0.837, val_acc: 0.926loss: 0.756 (data_loss: 0.505reg_loss: 0.250) lr: 0.0498504486540379\n",
      "epoch: 62, acc: 0.837, val_acc: 0.924loss: 0.747 (data_loss: 0.502reg_loss: 0.245) lr: 0.049847963710682425\n",
      "epoch: 63, acc: 0.840, val_acc: 0.926loss: 0.737 (data_loss: 0.498reg_loss: 0.239) lr: 0.04984547901505333\n",
      "epoch: 64, acc: 0.837, val_acc: 0.928loss: 0.733 (data_loss: 0.499reg_loss: 0.234) lr: 0.049842994567113594\n",
      "epoch: 65, acc: 0.845, val_acc: 0.928loss: 0.716 (data_loss: 0.488reg_loss: 0.229) lr: 0.04984051036682616\n",
      "epoch: 66, acc: 0.845, val_acc: 0.926loss: 0.707 (data_loss: 0.484reg_loss: 0.223) lr: 0.049838026414154\n",
      "epoch: 67, acc: 0.846, val_acc: 0.928loss: 0.702 (data_loss: 0.484reg_loss: 0.218) lr: 0.0498355427090601\n",
      "epoch: 68, acc: 0.847, val_acc: 0.930loss: 0.690 (data_loss: 0.477reg_loss: 0.213) lr: 0.04983305925150745\n",
      "epoch: 69, acc: 0.849, val_acc: 0.929loss: 0.677 (data_loss: 0.469reg_loss: 0.208) lr: 0.04983057604145904\n",
      "epoch: 70, acc: 0.846, val_acc: 0.924loss: 0.692 (data_loss: 0.489reg_loss: 0.203) lr: 0.04982809307887787\n",
      "epoch: 71, acc: 0.844, val_acc: 0.927loss: 0.682 (data_loss: 0.483reg_loss: 0.199) lr: 0.04982561036372696\n",
      "epoch: 72, acc: 0.848, val_acc: 0.927loss: 0.669 (data_loss: 0.474reg_loss: 0.195) lr: 0.049823127895969314\n",
      "epoch: 73, acc: 0.849, val_acc: 0.929loss: 0.670 (data_loss: 0.478reg_loss: 0.192) lr: 0.04982064567556796\n",
      "epoch: 74, acc: 0.845, val_acc: 0.926loss: 0.672 (data_loss: 0.483reg_loss: 0.189) lr: 0.04981816370248593\n"
     ]
    }
   ],
   "source": [
    "dense1=Layer_Dense(784,128,L2_weight_regulaizer=5e-4,L2_bias_regulaizer=5e-4)\n",
    "activation1=Activation_RelU()\n",
    "dense2=Layer_Dense(128,10)\n",
    "dropout1=Layer_Dropout(0.4)\n",
    "train_accuracies=[]\n",
    "val_accuracies=[]\n",
    "train_loss=[]\n",
    "val_losses=[]\n",
    "epoch=75\n",
    "loss_activation=Activation_SoftMax_Loss_Catorgorical_Cross_Entropy()\n",
    "optimizer=Optimizer_Adam(learning_rate=0.05,decay=5e-5)\n",
    "for epoch in range(epoch):\n",
    "    dense1.forward(X_train)\n",
    "    activation1.forward(dense1.output)\n",
    "    dropout1.forward(activation1.output)\n",
    "    dense2.forward(dropout1.output)\n",
    "    data_loss=loss_activation.forward(dense2.output,y_train)\n",
    "    regularization_loss=loss_activation.loss.regulaization_loss(dense1)+\\\n",
    "                        loss_activation.loss.regulaization_loss(dense2)\n",
    "    loss=data_loss+regularization_loss\n",
    "    predictions=np.argmax(loss_activation.output,axis=1)\n",
    "    accuracy=np.mean(predictions==y_train)\n",
    "    train_accuracies.append(accuracy)\n",
    "    train_loss.append(loss)\n",
    "\n",
    "    if not epoch %100==0:\n",
    "        print(f'epoch: {epoch}, ' +\n",
    "              f'acc: {accuracy :.3f}, ' +\n",
    "              f'val_acc: {val_acc:.3f}'\n",
    "              f'loss: {loss:.3f} (' +\n",
    "              f'data_loss: {data_loss:.3f}'+\n",
    "              f'reg_loss: {regularization_loss:.3f})'+\n",
    "              f' lr: {optimizer.current_learning_rate}')\n",
    "    loss_activation.backward(loss_activation.output,y_train)\n",
    "    dense2.backward(loss_activation.dinputs)\n",
    "    dropout1.backward(dense2.dinputs)\n",
    "    activation1.backward(dropout1.dinputs)\n",
    "    dense1.backward(activation1.dinputs)\n",
    "    \n",
    "    optimizer.pre_update_params()\n",
    "    optimizer.update_params(dense1)\n",
    "    optimizer.update_params(dense2)\n",
    "    optimizer.post_update_params()\n",
    "    \n",
    "    # Validation\n",
    "    dense1.forward(X_val)\n",
    "    activation1.forward(dense1.output)\n",
    "    dense2.forward(activation1.output)\n",
    "    val_loss = loss_activation.forward(dense2.output, y_val)\n",
    "    \n",
    "    val_predictions = np.argmax(loss_activation.output, axis=1)\n",
    "    val_acc = np.mean(val_predictions == y_val)\n",
    "    \n",
    "    val_losses.append(val_loss)\n",
    "    val_accuracies.append(val_acc)"
   ]
  },
  {
   "cell_type": "markdown",
   "id": "1f9906fd",
   "metadata": {},
   "source": [
    "Validation Accuracy"
   ]
  },
  {
   "cell_type": "code",
   "execution_count": 68,
   "id": "7040c91a",
   "metadata": {},
   "outputs": [
    {
     "name": "stdout",
     "output_type": "stream",
     "text": [
      "acc: 0.932, loss: 0.235\n"
     ]
    }
   ],
   "source": [
    "dense1.forward(X_val)\n",
    "activation1.forward(dense1.output)\n",
    "dense2.forward(activation1.output)\n",
    "loss=loss_activation.forward(dense2.output,y_val)\n",
    "\n",
    "predictions=np.argmax(loss_activation.output,axis=1)\n",
    "accuracy=np.mean(predictions==y_val)\n",
    "    \n",
    "print(f'acc: {accuracy :.3f}, ' +  f'loss: {loss:.3f}')"
   ]
  },
  {
   "cell_type": "markdown",
   "id": "7f6c7a32",
   "metadata": {},
   "source": [
    "Testing data"
   ]
  },
  {
   "cell_type": "code",
   "execution_count": 69,
   "id": "1c6e38f9",
   "metadata": {},
   "outputs": [
    {
     "name": "stdout",
     "output_type": "stream",
     "text": [
      "acc: 0.929, loss: 0.234\n"
     ]
    }
   ],
   "source": [
    "dense1.forward(X_test)\n",
    "activation1.forward(dense1.output)\n",
    "dense2.forward(activation1.output)\n",
    "loss=loss_activation.forward(dense2.output,y_test)\n",
    "\n",
    "predictions=np.argmax(loss_activation.output,axis=1)\n",
    "accuracy=np.mean(predictions==y_test)\n",
    "    \n",
    "print(f'acc: {accuracy :.3f}, ' +  f'loss: {loss:.3f}')"
   ]
  },
  {
   "cell_type": "markdown",
   "id": "2256871d",
   "metadata": {},
   "source": [
    "Training & Validation Loss vs Epochs"
   ]
  },
  {
   "cell_type": "code",
   "execution_count": 67,
   "id": "3c8be458",
   "metadata": {},
   "outputs": [
    {
     "data": {
      "text/plain": [
       "Text(0.5, 1.0, 'Loss vs Epochs')"
      ]
     },
     "execution_count": 67,
     "metadata": {},
     "output_type": "execute_result"
    },
    {
     "data": {
      "image/png": "[encoded data removed]",
      "text/plain": [
       "<Figure size 1200x500 with 1 Axes>"
      ]
     },
     "metadata": {},
     "output_type": "display_data"
    }
   ],
   "source": [
    "plt.figure(figsize=(12,5))\n",
    "plt.subplot(1,2,1)\n",
    "plt.plot(train_loss, label='Train Loss')\n",
    "plt.plot(val_losses, label='Val Loss')\n",
    "plt.xlabel('Epoch')\n",
    "plt.ylabel('Loss')\n",
    "plt.legend()\n",
    "plt.title('Loss vs Epochs')\n"
   ]
  },
  {
   "cell_type": "markdown",
   "id": "58e393da",
   "metadata": {},
   "source": [
    "Training and Validation accuracy vs Epochs\n"
   ]
  },
  {
   "cell_type": "code",
   "execution_count": 66,
   "id": "c444ba68",
   "metadata": {},
   "outputs": [
    {
     "data": {
      "text/plain": [
       "Text(0.5, 1.0, 'Accuracy vs Epochs')"
      ]
     },
     "execution_count": 66,
     "metadata": {},
     "output_type": "execute_result"
    },
    {
     "data": {
      "image/png": "[encoded data removed]",
      "text/plain": [
       "<Figure size 1200x500 with 1 Axes>"
      ]
     },
     "metadata": {},
     "output_type": "display_data"
    }
   ],
   "source": [
    "plt.figure(figsize=(12,5))\n",
    "plt.subplot(1,2,1)\n",
    "plt.plot(train_accuracies, label='Train Accuracy')\n",
    "plt.plot(val_accuracies, label='Val Accuracy')\n",
    "plt.xlabel('Epoch')\n",
    "plt.ylabel('Accuracy')\n",
    "plt.legend()\n",
    "plt.title('Accuracy vs Epochs')\n"
   ]
  }
 ],
 "metadata": {
  "kernelspec": {
   "display_name": "Python 3",
   "language": "python",
   "name": "python3"
  },
  "language_info": {
   "codemirror_mode": {
    "name": "ipython",
    "version": 3
   },
   "file_extension": ".py",
   "mimetype": "text/x-python",
   "name": "python",
   "nbconvert_exporter": "python",
   "pygments_lexer": "ipython3",
   "version": "3.12.5"
  }
 },
 "nbformat": 4,
 "nbformat_minor": 5
}
